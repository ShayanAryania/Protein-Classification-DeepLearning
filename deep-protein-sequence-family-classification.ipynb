{
 "cells": [
  {
   "cell_type": "markdown",
   "metadata": {
    "_cell_guid": "dc9e8033-7f68-4dde-bd5d-709e03c6a4b8",
    "_uuid": "6fdae6829ac931eb6302023de80ab39d87f42710"
   },
   "source": [
    "# Import Dataset, drop NaN's, select Proteins\n",
    "This notebooks shows how to classify protein families soley based on their sequence of aminoacids. This work is based on the current success of deep learning models in natural language processing (NLP) and assumes the proteins sequences can be viewed as as a language. Please note, that there are notable search engines such as BLAST for this task.\n",
    "\n",
    "Before we dive into, first some preprocessing of the data:\n",
    "1. merge on *structureId*\n",
    "2. drop rows without labels\n",
    "3. drop rows without sequence\n",
    "4. select proteins"
   ]
  },
  {
   "cell_type": "code",
   "execution_count": 1,
   "metadata": {
    "_cell_guid": "b1076dfc-b9ad-4769-8c92-a6c4dae69d19",
    "_uuid": "8f2839f25d086af736a60e9eeb907d3b93b6e0e5",
    "execution": {
     "iopub.execute_input": "2021-08-16T11:07:34.441149Z",
     "iopub.status.busy": "2021-08-16T11:07:34.440819Z",
     "iopub.status.idle": "2021-08-16T11:07:36.256605Z",
     "shell.execute_reply": "2021-08-16T11:07:36.255520Z",
     "shell.execute_reply.started": "2021-08-16T11:07:34.441097Z"
    }
   },
   "outputs": [
    {
     "name": "stderr",
     "output_type": "stream",
     "text": [
      "Using TensorFlow backend.\n"
     ]
    }
   ],
   "source": [
    "import numpy as np\n",
    "import pandas as pd\n",
    "\n",
    "from keras.models import Sequential\n",
    "from keras.layers import Dense, Conv1D, MaxPooling1D,AveragePooling1D, Flatten,AtrousConvolution1D,SpatialDropout1D, Dropout, GlobalAveragePooling1D,GlobalMaxPooling1D\n",
    "from keras.layers.normalization import BatchNormalization\n",
    "\n",
    "from keras.layers import LSTM\n",
    "from keras.layers.embeddings import Embedding\n",
    "\n",
    "# https://machinelearningmastery.com/how-to-stop-training-deep-neural-networks-at-the-right-time-using-early-stopping/\n",
    "from keras.callbacks import EarlyStopping\n",
    "\n",
    "from keras.preprocessing import text, sequence\n",
    "from keras.preprocessing.text import Tokenizer\n",
    "from sklearn.model_selection import train_test_split"
   ]
  },
  {
   "cell_type": "code",
   "execution_count": 2,
   "metadata": {
    "execution": {
     "iopub.execute_input": "2021-08-16T11:07:36.263853Z",
     "iopub.status.busy": "2021-08-16T11:07:36.261799Z",
     "iopub.status.idle": "2021-08-16T11:07:40.779205Z",
     "shell.execute_reply": "2021-08-16T11:07:40.778594Z",
     "shell.execute_reply.started": "2021-08-16T11:07:36.263801Z"
    }
   },
   "outputs": [
    {
     "name": "stdout",
     "output_type": "stream",
     "text": [
      "(87761, 18)\n"
     ]
    },
    {
     "data": {
      "text/html": [
       "<div>\n",
       "<style scoped>\n",
       "    .dataframe tbody tr th:only-of-type {\n",
       "        vertical-align: middle;\n",
       "    }\n",
       "\n",
       "    .dataframe tbody tr th {\n",
       "        vertical-align: top;\n",
       "    }\n",
       "\n",
       "    .dataframe thead th {\n",
       "        text-align: right;\n",
       "    }\n",
       "</style>\n",
       "<table border=\"1\" class=\"dataframe\">\n",
       "  <thead>\n",
       "    <tr style=\"text-align: right;\">\n",
       "      <th></th>\n",
       "      <th>structureId</th>\n",
       "      <th>classification</th>\n",
       "      <th>experimentalTechnique</th>\n",
       "      <th>macromoleculeType_x</th>\n",
       "      <th>residueCount_x</th>\n",
       "      <th>resolution</th>\n",
       "      <th>structureMolecularWeight</th>\n",
       "      <th>crystallizationMethod</th>\n",
       "      <th>crystallizationTempK</th>\n",
       "      <th>densityMatthews</th>\n",
       "      <th>densityPercentSol</th>\n",
       "      <th>pdbxDetails</th>\n",
       "      <th>phValue</th>\n",
       "      <th>publicationYear</th>\n",
       "      <th>chainId</th>\n",
       "      <th>sequence</th>\n",
       "      <th>residueCount_y</th>\n",
       "      <th>macromoleculeType_y</th>\n",
       "    </tr>\n",
       "  </thead>\n",
       "  <tbody>\n",
       "    <tr>\n",
       "      <th>4</th>\n",
       "      <td>101M</td>\n",
       "      <td>OXYGEN TRANSPORT</td>\n",
       "      <td>X-RAY DIFFRACTION</td>\n",
       "      <td>Protein</td>\n",
       "      <td>154</td>\n",
       "      <td>2.07</td>\n",
       "      <td>18112.80</td>\n",
       "      <td>NaN</td>\n",
       "      <td>NaN</td>\n",
       "      <td>3.09</td>\n",
       "      <td>60.20</td>\n",
       "      <td>3.0 M AMMONIUM SULFATE, 20 MM TRIS, 1MM EDTA, ...</td>\n",
       "      <td>9.0</td>\n",
       "      <td>1999.0</td>\n",
       "      <td>A</td>\n",
       "      <td>MVLSEGEWQLVLHVWAKVEADVAGHGQDILIRLFKSHPETLEKFDR...</td>\n",
       "      <td>154</td>\n",
       "      <td>Protein</td>\n",
       "    </tr>\n",
       "    <tr>\n",
       "      <th>7</th>\n",
       "      <td>102L</td>\n",
       "      <td>HYDROLASE(O-GLYCOSYL)</td>\n",
       "      <td>X-RAY DIFFRACTION</td>\n",
       "      <td>Protein</td>\n",
       "      <td>165</td>\n",
       "      <td>1.74</td>\n",
       "      <td>18926.61</td>\n",
       "      <td>NaN</td>\n",
       "      <td>NaN</td>\n",
       "      <td>2.75</td>\n",
       "      <td>55.28</td>\n",
       "      <td>NaN</td>\n",
       "      <td>NaN</td>\n",
       "      <td>1993.0</td>\n",
       "      <td>A</td>\n",
       "      <td>MNIFEMLRIDEGLRLKIYKDTEGYYTIGIGHLLTKSPSLNAAAKSE...</td>\n",
       "      <td>165</td>\n",
       "      <td>Protein</td>\n",
       "    </tr>\n",
       "    <tr>\n",
       "      <th>8</th>\n",
       "      <td>102M</td>\n",
       "      <td>OXYGEN TRANSPORT</td>\n",
       "      <td>X-RAY DIFFRACTION</td>\n",
       "      <td>Protein</td>\n",
       "      <td>154</td>\n",
       "      <td>1.84</td>\n",
       "      <td>18010.64</td>\n",
       "      <td>NaN</td>\n",
       "      <td>NaN</td>\n",
       "      <td>3.09</td>\n",
       "      <td>60.20</td>\n",
       "      <td>3.0 M AMMONIUM SULFATE, 20 MM TRIS, 1MM EDTA, ...</td>\n",
       "      <td>9.0</td>\n",
       "      <td>1999.0</td>\n",
       "      <td>A</td>\n",
       "      <td>MVLSEGEWQLVLHVWAKVEADVAGHGQDILIRLFKSHPETLEKFDR...</td>\n",
       "      <td>154</td>\n",
       "      <td>Protein</td>\n",
       "    </tr>\n",
       "    <tr>\n",
       "      <th>11</th>\n",
       "      <td>103L</td>\n",
       "      <td>HYDROLASE(O-GLYCOSYL)</td>\n",
       "      <td>X-RAY DIFFRACTION</td>\n",
       "      <td>Protein</td>\n",
       "      <td>167</td>\n",
       "      <td>1.90</td>\n",
       "      <td>19092.72</td>\n",
       "      <td>NaN</td>\n",
       "      <td>NaN</td>\n",
       "      <td>2.70</td>\n",
       "      <td>54.46</td>\n",
       "      <td>NaN</td>\n",
       "      <td>NaN</td>\n",
       "      <td>1993.0</td>\n",
       "      <td>A</td>\n",
       "      <td>MNIFEMLRIDEGLRLKIYKDTEGYYTIGIGHLLTKSPSLNSLDAAK...</td>\n",
       "      <td>167</td>\n",
       "      <td>Protein</td>\n",
       "    </tr>\n",
       "    <tr>\n",
       "      <th>15</th>\n",
       "      <td>104L</td>\n",
       "      <td>HYDROLASE(O-GLYCOSYL)</td>\n",
       "      <td>X-RAY DIFFRACTION</td>\n",
       "      <td>Protein</td>\n",
       "      <td>332</td>\n",
       "      <td>2.80</td>\n",
       "      <td>37541.04</td>\n",
       "      <td>NaN</td>\n",
       "      <td>NaN</td>\n",
       "      <td>3.04</td>\n",
       "      <td>59.49</td>\n",
       "      <td>NaN</td>\n",
       "      <td>NaN</td>\n",
       "      <td>1993.0</td>\n",
       "      <td>A</td>\n",
       "      <td>MNIFEMLRIDEGLRLKIYKDTEGYYTIGIGHLLTKSPSLNAAKSAA...</td>\n",
       "      <td>332</td>\n",
       "      <td>Protein</td>\n",
       "    </tr>\n",
       "  </tbody>\n",
       "</table>\n",
       "</div>"
      ],
      "text/plain": [
       "   structureId         ...         macromoleculeType_y\n",
       "4         101M         ...                     Protein\n",
       "7         102L         ...                     Protein\n",
       "8         102M         ...                     Protein\n",
       "11        103L         ...                     Protein\n",
       "15        104L         ...                     Protein\n",
       "\n",
       "[5 rows x 18 columns]"
      ]
     },
     "execution_count": 2,
     "metadata": {},
     "output_type": "execute_result"
    }
   ],
   "source": [
    "\n",
    "\n",
    "\n",
    "# Merge the two Data set together\n",
    "# Drop duplicates (unlike the original script)\n",
    "df = pd.read_csv('../input/pdb_data_no_dups.csv').merge(pd.read_csv('../input/pdb_data_seq.csv'), how='inner', on='structureId').drop_duplicates([\"sequence\"]) # ,\"classification\"\n",
    "# Drop rows with missing labels\n",
    "df = df[[type(c) == type('') for c in df.classification.values]]\n",
    "df = df[[type(c) == type('') for c in df.sequence.values]]\n",
    "# select proteins\n",
    "df = df[df.macromoleculeType_x == 'Protein']\n",
    "df.reset_index()\n",
    "print(df.shape)\n",
    "df.head()"
   ]
  },
  {
   "cell_type": "markdown",
   "metadata": {},
   "source": [
    "### remove some longer/shorter sequences\n",
    "* the length is very skewed. We'll exclude some of the longer ones (many papers do <300-500 length sequences).\n",
    "* For now we'l lleave the peptides (or potential fragments) in, i.e the very short (<30 AA) sequences"
   ]
  },
  {
   "cell_type": "code",
   "execution_count": 3,
   "metadata": {
    "execution": {
     "iopub.execute_input": "2021-08-16T11:07:40.780828Z",
     "iopub.status.busy": "2021-08-16T11:07:40.780499Z",
     "iopub.status.idle": "2021-08-16T11:07:40.804900Z",
     "shell.execute_reply": "2021-08-16T11:07:40.803948Z",
     "shell.execute_reply.started": "2021-08-16T11:07:40.780773Z"
    }
   },
   "outputs": [
    {
     "name": "stdout",
     "output_type": "stream",
     "text": [
      "1732.0\n"
     ]
    },
    {
     "data": {
      "text/plain": [
       "count     87761.000000\n",
       "mean        922.913937\n",
       "std        3173.118920\n",
       "min           3.000000\n",
       "25%         234.000000\n",
       "50%         451.000000\n",
       "75%         880.000000\n",
       "max      157478.000000\n",
       "Name: residueCount_x, dtype: float64"
      ]
     },
     "execution_count": 3,
     "metadata": {},
     "output_type": "execute_result"
    }
   ],
   "source": [
    "print(df.residueCount_x.quantile(0.9))\n",
    "df.residueCount_x.describe()"
   ]
  },
  {
   "cell_type": "code",
   "execution_count": 4,
   "metadata": {
    "execution": {
     "iopub.execute_input": "2021-08-16T11:07:40.806827Z",
     "iopub.status.busy": "2021-08-16T11:07:40.806300Z",
     "iopub.status.idle": "2021-08-16T11:07:40.833502Z",
     "shell.execute_reply": "2021-08-16T11:07:40.832567Z",
     "shell.execute_reply.started": "2021-08-16T11:07:40.806550Z"
    }
   },
   "outputs": [
    {
     "name": "stdout",
     "output_type": "stream",
     "text": [
      "73140\n"
     ]
    },
    {
     "data": {
      "text/plain": [
       "count    73140.000000\n",
       "mean       433.599918\n",
       "std        289.671609\n",
       "min          3.000000\n",
       "25%        198.000000\n",
       "50%        373.000000\n",
       "75%        618.000000\n",
       "max       1198.000000\n",
       "Name: residueCount_x, dtype: float64"
      ]
     },
     "execution_count": 4,
     "metadata": {},
     "output_type": "execute_result"
    }
   ],
   "source": [
    "df = df.loc[df.residueCount_x<1200]\n",
    "print(df.shape[0])\n",
    "df.residueCount_x.describe()"
   ]
  },
  {
   "cell_type": "markdown",
   "metadata": {
    "_cell_guid": "79c7e3d0-c299-4dcb-8224-4455121ee9b0",
    "_uuid": "d629ff2d2480ee46fbb7e2d37f6b5fab8052498a"
   },
   "source": [
    "# Preprocessing and visualization of dataset\n",
    "**Ideally: **For comparison I also decided to focus only on those classes where the number of instances is greater than 1000 (as in [this kernel of Akil](https://www.kaggle.com/abharg16/predicting-protein-classification/code)) which corresponds to the 43 most common classes. \n",
    "\n",
    "**But:** one hour on 4 CPU is not sufficient for such big datasets, instead only 10 most common classes are considered."
   ]
  },
  {
   "cell_type": "code",
   "execution_count": 5,
   "metadata": {
    "_cell_guid": "0611c0ab-8993-4a55-8299-990a4bde485c",
    "_uuid": "cbcecef0b6257c846b81465881ab253a09722958",
    "execution": {
     "iopub.execute_input": "2021-08-16T11:07:40.835306Z",
     "iopub.status.busy": "2021-08-16T11:07:40.834871Z",
     "iopub.status.idle": "2021-08-16T11:07:41.783657Z",
     "shell.execute_reply": "2021-08-16T11:07:41.782735Z",
     "shell.execute_reply.started": "2021-08-16T11:07:40.835103Z"
    }
   },
   "outputs": [
    {
     "name": "stdout",
     "output_type": "stream",
     "text": [
      "at least 1416 instances per class\n",
      "73140 instances before\n",
      "37280 instances after\n"
     ]
    },
    {
     "name": "stderr",
     "output_type": "stream",
     "text": [
      "/opt/conda/lib/python3.6/site-packages/matplotlib/axes/_axes.py:6521: MatplotlibDeprecationWarning: \n",
      "The 'normed' kwarg was deprecated in Matplotlib 2.1 and will be removed in 3.1. Use 'density' instead.\n",
      "  alternative=\"'density'\", removal=\"3.1\")\n"
     ]
    },
    {
     "data": {
      "image/png": "[encoded data removed]",
      "text/plain": [
       "<Figure size 1440x360 with 2 Axes>"
      ]
     },
     "metadata": {},
     "output_type": "display_data"
    }
   ],
   "source": [
    "import matplotlib.pyplot as plt\n",
    "from collections import Counter\n",
    "\n",
    "# count numbers of instances per class\n",
    "cnt = Counter(df.classification)\n",
    "# select only K most common classes! - was 10 by default\n",
    "top_classes = 10\n",
    "# sort classes\n",
    "sorted_classes = cnt.most_common()[:top_classes]\n",
    "classes = [c[0] for c in sorted_classes]\n",
    "counts = [c[1] for c in sorted_classes]\n",
    "print(\"at least \" + str(counts[-1]) + \" instances per class\")\n",
    "\n",
    "# apply to dataframe\n",
    "print(str(df.shape[0]) + \" instances before\")\n",
    "df = df[[c in classes for c in df.classification]]\n",
    "print(str(df.shape[0]) + \" instances after\")\n",
    "\n",
    "seqs = df.sequence.values\n",
    "lengths = [len(s) for s in seqs]\n",
    "\n",
    "# visualize\n",
    "fig, axarr = plt.subplots(1,2, figsize=(20,5))\n",
    "axarr[0].bar(range(len(classes)), counts)\n",
    "plt.sca(axarr[0])\n",
    "plt.xticks(range(len(classes)), classes, rotation='vertical')\n",
    "axarr[0].set_ylabel('frequency')\n",
    "\n",
    "axarr[1].hist(lengths, bins=50, normed=False)\n",
    "axarr[1].set_xlabel('sequence length')\n",
    "axarr[1].set_ylabel('# sequences')\n",
    "plt.show()"
   ]
  },
  {
   "cell_type": "markdown",
   "metadata": {
    "_cell_guid": "53f1f7fc-ee42-44e9-b5c7-cec8f3546f12",
    "_uuid": "2e0cdbed51fac3bef051067eac07e76303f54c57"
   },
   "source": [
    "# Transform labels\n",
    "First, the dataset is reduced to those samples wich are one of the ten most common classes. The length of sequences ranges from very few amino acids to several thousand amino acids (see plot below).\n",
    "\n",
    "Second, using **LabelBinarizer** from **sklearn.preprocessing** transforms the labels in string to one hot representation."
   ]
  },
  {
   "cell_type": "code",
   "execution_count": 6,
   "metadata": {
    "_cell_guid": "3c194a8a-14f0-4444-b685-ce95501214b7",
    "_uuid": "3a59e4a4f6d83d81e72dd16e18789fd57f2a3d52",
    "execution": {
     "iopub.execute_input": "2021-08-16T11:07:41.785496Z",
     "iopub.status.busy": "2021-08-16T11:07:41.785172Z",
     "iopub.status.idle": "2021-08-16T11:07:42.022584Z",
     "shell.execute_reply": "2021-08-16T11:07:42.021918Z",
     "shell.execute_reply.started": "2021-08-16T11:07:41.785442Z"
    }
   },
   "outputs": [],
   "source": [
    "from sklearn.preprocessing import LabelBinarizer\n",
    "\n",
    "# Transform labels to one-hot\n",
    "lb = LabelBinarizer()\n",
    "Y = lb.fit_transform(df.classification)"
   ]
  },
  {
   "cell_type": "markdown",
   "metadata": {
    "_cell_guid": "45cca47b-358a-4366-8fc6-2aca5c8768f2",
    "_uuid": "e979acc17ab4fb2aef438c3fbdadd58289099db2"
   },
   "source": [
    "# Further preprocessing of sequences with keras\n",
    "Using the ** keras** library for text processing, \n",
    "1. ** Tokenizer**: translates every character of the sequence into a number\n",
    "2. **pad_sequences:** ensures that every sequence has the same length (max_length). I decided to use a maximum length of 512, which should be sufficient for most sequences. **Note:** reduced to 256 for computational time reasons.\n",
    "3. **train_test_split:** from sklearn splits the data into training and testing samples."
   ]
  },
  {
   "cell_type": "code",
   "execution_count": 7,
   "metadata": {
    "_cell_guid": "6bd20d9f-6b43-46bd-821b-4ceb27882a50",
    "_uuid": "72ef0fa23c88562a3261bc4ac784e2b4dd3576ae",
    "execution": {
     "iopub.execute_input": "2021-08-16T11:07:42.024805Z",
     "iopub.status.busy": "2021-08-16T11:07:42.024237Z",
     "iopub.status.idle": "2021-08-16T11:07:50.282873Z",
     "shell.execute_reply": "2021-08-16T11:07:50.282090Z",
     "shell.execute_reply.started": "2021-08-16T11:07:42.024499Z"
    }
   },
   "outputs": [],
   "source": [
    "\n",
    "# maximum length of sequence, everything afterwards is discarded! Default 256\n",
    "# max_length = 256\n",
    "max_length = 350\n",
    "\n",
    "#create and fit tokenizer\n",
    "tokenizer = Tokenizer(char_level=True)\n",
    "tokenizer.fit_on_texts(seqs)\n",
    "#represent input data as word rank number sequences\n",
    "X = tokenizer.texts_to_sequences(seqs)\n",
    "X = sequence.pad_sequences(X, maxlen=max_length)"
   ]
  },
  {
   "cell_type": "markdown",
   "metadata": {
    "_cell_guid": "85a605d3-3c06-462e-8374-7a626c50f511",
    "_uuid": "c1a50e14370f7431ad5f19b4aea830f16e065129"
   },
   "source": [
    "# Build keras model and fit\n",
    "**Previous approaches:**\n",
    "\n",
    " [Kernel of hnike](https://www.kaggle.com/hnike25/best-machine-learning-model-on-the-dataset/code)  relied on numerical features of the data (with molecule weight, residue count etc.) 90% considering only the three most common classes. Without any claim of generality, some quick tests with this scenario showed superior results. \n",
    " \n",
    "[Kernel of abharg](https://www.kaggle.com/abharg16/predicting-protein-classification/code) used **CountVectorizer** from sklearn with 4-grams followed by a simple classification model and yielded accuaracy of about 76% considering the first 43 classes (classes where there are more than one thousand samples). Note that this approach is also based soley on the sequence and will be compared with my results.\n",
    "\n",
    "## Further improvements\n",
    "Now the most crucial part of this kernel:\n",
    "1. recent success in NLP suggest to use word embeddings which is already implemented as a keras layer ([**Embedding**](https://keras.io/layers/embeddings/)). Note that in our case, there are only 20 different words (for each amino acid). Instead of word embedding, one could try a 2D convolution on the one hot representation of the sequence, but this approach focuses on applying NLP-theory to protein sequences. \n",
    "2. instead of using every n-gram, consider using [1D-convolution]() on the embedded sequences. The size of the convolutional kernel can be seen as size of n-grams and the number of filters as number of words. \n",
    "3. to improve performance also a deep architecture (subsequent layers of convolution and pooling) can be used, here two layers, where the first layer has 64 filters with convolutional size of 6 and the second layer has 32 filters of size 3.\n",
    "4. Flatten and pass activations into fully connceted layers where the last layer is a softmax activation and size corresponding to the number of classes.\n",
    "\n",
    "* Likely improvement: filter bank (instead of a linear chain of convolutions)"
   ]
  },
  {
   "cell_type": "code",
   "execution_count": 8,
   "metadata": {
    "execution": {
     "iopub.execute_input": "2021-08-16T11:07:50.284600Z",
     "iopub.status.busy": "2021-08-16T11:07:50.284320Z",
     "iopub.status.idle": "2021-08-16T11:07:50.309990Z",
     "shell.execute_reply": "2021-08-16T11:07:50.309249Z",
     "shell.execute_reply.started": "2021-08-16T11:07:50.284558Z"
    }
   },
   "outputs": [],
   "source": [
    "X_train, X_test, y_train, y_test = train_test_split(X, Y, test_size=.2)"
   ]
  },
  {
   "cell_type": "code",
   "execution_count": 9,
   "metadata": {
    "_cell_guid": "e284ceed-8c91-4a1c-9495-dddda0c05d63",
    "_uuid": "0c741a77feafefa6bf17380a9c36da8ab3414cc9",
    "execution": {
     "iopub.execute_input": "2021-08-16T11:07:50.311953Z",
     "iopub.status.busy": "2021-08-16T11:07:50.311598Z",
     "iopub.status.idle": "2021-08-16T11:07:50.793913Z",
     "shell.execute_reply": "2021-08-16T11:07:50.792238Z",
     "shell.execute_reply.started": "2021-08-16T11:07:50.311899Z"
    }
   },
   "outputs": [
    {
     "name": "stdout",
     "output_type": "stream",
     "text": [
      "WARNING:tensorflow:From /opt/conda/lib/python3.6/site-packages/tensorflow/python/framework/op_def_library.py:263: colocate_with (from tensorflow.python.framework.ops) is deprecated and will be removed in a future version.\n",
      "Instructions for updating:\n",
      "Colocations handled automatically by placer.\n",
      "_________________________________________________________________\n",
      "Layer (type)                 Output Shape              Param #   \n",
      "=================================================================\n",
      "embedding_1 (Embedding)      (None, 350, 25)           650       \n",
      "_________________________________________________________________\n",
      "conv1d_1 (Conv1D)            (None, 350, 128)          12928     \n",
      "_________________________________________________________________\n",
      "conv1d_2 (Conv1D)            (None, 346, 128)          82048     \n",
      "_________________________________________________________________\n",
      "average_pooling1d_1 (Average (None, 173, 128)          0         \n",
      "_________________________________________________________________\n",
      "conv1d_3 (Conv1D)            (None, 161, 128)          114816    \n",
      "_________________________________________________________________\n",
      "batch_normalization_1 (Batch (None, 161, 128)          512       \n",
      "_________________________________________________________________\n",
      "average_pooling1d_2 (Average (None, 80, 128)           0         \n",
      "_________________________________________________________________\n",
      "global_average_pooling1d_1 ( (None, 128)               0         \n",
      "_________________________________________________________________\n",
      "dense_1 (Dense)              (None, 256)               33024     \n",
      "_________________________________________________________________\n",
      "batch_normalization_2 (Batch (None, 256)               1024      \n",
      "_________________________________________________________________\n",
      "dense_2 (Dense)              (None, 128)               32896     \n",
      "_________________________________________________________________\n",
      "batch_normalization_3 (Batch (None, 128)               512       \n",
      "_________________________________________________________________\n",
      "dense_3 (Dense)              (None, 10)                1290      \n",
      "=================================================================\n",
      "Total params: 279,700\n",
      "Trainable params: 278,676\n",
      "Non-trainable params: 1,024\n",
      "_________________________________________________________________\n",
      "None\n"
     ]
    }
   ],
   "source": [
    "embedding_dim = 25 # orig 8\n",
    "\n",
    "# create the model\n",
    "model = Sequential()\n",
    "model.add(Embedding(len(tokenizer.word_index)+1, embedding_dim, input_length=max_length))\n",
    "model.add(Conv1D(filters=128, kernel_size=4, padding='same', activation='relu',dilation_rate=1))\n",
    "# model.add(Conv1D(filters=64, kernel_size=6, padding='same', activation='relu')) #orig\n",
    "model.add(Conv1D(filters=128, kernel_size=5, padding='valid', activation='relu',dilation_rate=1))\n",
    "# model.add(BatchNormalization())\n",
    "# model.add(MaxPooling1D(pool_size=2))\n",
    "model.add(AveragePooling1D(pool_size=2))\n",
    "# model.add(Conv1D(filters=32, kernel_size=3, padding='same', activation='relu')) # orig\n",
    "model.add(Conv1D(filters=128, kernel_size=7, padding='valid', activation='relu',dilation_rate=2)) \n",
    "model.add(BatchNormalization())\n",
    "# model.add(MaxPooling1D(pool_size=2))\n",
    "model.add(AveragePooling1D(pool_size=2))\n",
    "\n",
    "# model.add(Flatten()) ## Could do pooling instead \n",
    "# GlobalAveragePooling1D,GlobalMaxPooling1D\n",
    "model.add(GlobalAveragePooling1D())\n",
    "\n",
    "model.add(Dense(256, activation='relu')) # 128\n",
    "model.add(BatchNormalization())\n",
    "model.add(Dense(128, activation='relu')) # 128\n",
    "model.add(BatchNormalization())\n",
    "model.add(Dense(top_classes, activation='softmax'))\n",
    "model.compile(loss='categorical_crossentropy', optimizer='adam', metrics=['accuracy'])\n",
    "print(model.summary())"
   ]
  },
  {
   "cell_type": "code",
   "execution_count": 10,
   "metadata": {
    "_uuid": "0cfd2beb6bcfaf621b66ce1b953a689639f6d0dd",
    "execution": {
     "iopub.execute_input": "2021-08-16T11:07:50.795539Z",
     "iopub.status.busy": "2021-08-16T11:07:50.795234Z"
    }
   },
   "outputs": [
    {
     "name": "stdout",
     "output_type": "stream",
     "text": [
      "WARNING:tensorflow:From /opt/conda/lib/python3.6/site-packages/tensorflow/python/ops/math_ops.py:3066: to_int32 (from tensorflow.python.ops.math_ops) is deprecated and will be removed in a future version.\n",
      "Instructions for updating:\n",
      "Use tf.cast instead.\n",
      "Train on 25350 samples, validate on 4474 samples\n",
      "Epoch 1/25\n",
      "25350/25350 [==============================] - 222s 9ms/step - loss: 1.7797 - acc: 0.3812 - val_loss: 4.2638 - val_acc: 0.1339\n",
      "Epoch 2/25\n",
      "25350/25350 [==============================] - 217s 9ms/step - loss: 1.5912 - acc: 0.4387 - val_loss: 4.1349 - val_acc: 0.2642\n",
      "Epoch 3/25\n",
      "25350/25350 [==============================] - 215s 8ms/step - loss: 1.4843 - acc: 0.4809 - val_loss: 6.6693 - val_acc: 0.1120\n",
      "Epoch 4/25\n",
      "25350/25350 [==============================] - 214s 8ms/step - loss: 1.3845 - acc: 0.5265 - val_loss: 2.4593 - val_acc: 0.2841\n",
      "Epoch 5/25\n",
      "25350/25350 [==============================] - 214s 8ms/step - loss: 1.2831 - acc: 0.5696 - val_loss: 4.0113 - val_acc: 0.2767\n",
      "Epoch 6/25\n",
      "25350/25350 [==============================] - 214s 8ms/step - loss: 1.1832 - acc: 0.6080 - val_loss: 2.5612 - val_acc: 0.3637\n",
      "Epoch 7/25\n",
      "25350/25350 [==============================] - 213s 8ms/step - loss: 1.0886 - acc: 0.6409 - val_loss: 3.3926 - val_acc: 0.1437\n",
      "Epoch 8/25\n",
      "25350/25350 [==============================] - 212s 8ms/step - loss: 0.9924 - acc: 0.6696 - val_loss: 2.2606 - val_acc: 0.3596\n",
      "Epoch 9/25\n",
      "25350/25350 [==============================] - 213s 8ms/step - loss: 0.8998 - acc: 0.7030 - val_loss: 3.8744 - val_acc: 0.2398\n",
      "Epoch 00009: early stopping\n"
     ]
    },
    {
     "data": {
      "text/plain": [
       "<keras.callbacks.History at 0x7f92d32bbc88>"
      ]
     },
     "execution_count": 10,
     "metadata": {},
     "output_type": "execute_result"
    }
   ],
   "source": [
    "es = EarlyStopping(monitor='val_acc', verbose=1, patience=3)\n",
    "\n",
    "model.fit(X_train, y_train,  batch_size=128, verbose=1, validation_split=0.15,callbacks=[es],epochs=25) # epochs=15, # batch_size=128"
   ]
  },
  {
   "cell_type": "markdown",
   "metadata": {},
   "source": [
    "* Other Models\n",
    "* http://nadbordrozd.github.io/blog/2017/08/12/looking-for-the-text-top-model/"
   ]
  },
  {
   "cell_type": "code",
   "execution_count": 11,
   "metadata": {},
   "outputs": [
    {
     "name": "stdout",
     "output_type": "stream",
     "text": [
      "WARNING:tensorflow:From /opt/conda/lib/python3.6/site-packages/keras/backend/tensorflow_backend.py:3445: calling dropout (from tensorflow.python.ops.nn_ops) with keep_prob is deprecated and will be removed in a future version.\n",
      "Instructions for updating:\n",
      "Please use `rate` instead of `keep_prob`. Rate should be set to `rate = 1 - keep_prob`.\n",
      "__________________________________________________________________________________________________\n",
      "Layer (type)                    Output Shape         Param #     Connected to                     \n",
      "==================================================================================================\n",
      "input_1 (InputLayer)            (None, 350)          0                                            \n",
      "__________________________________________________________________________________________________\n",
      "embedding_2 (Embedding)         (None, 350, 25)      650         input_1[0][0]                    \n",
      "__________________________________________________________________________________________________\n",
      "dropout_1 (Dropout)             (None, 350, 25)      0           embedding_2[0][0]                \n",
      "__________________________________________________________________________________________________\n",
      "conv1d_4 (Conv1D)               (None, 348, 32)      2432        dropout_1[0][0]                  \n",
      "__________________________________________________________________________________________________\n",
      "conv1d_5 (Conv1D)               (None, 346, 32)      4032        dropout_1[0][0]                  \n",
      "__________________________________________________________________________________________________\n",
      "conv1d_6 (Conv1D)               (None, 342, 32)      7232        dropout_1[0][0]                  \n",
      "__________________________________________________________________________________________________\n",
      "conv1d_7 (Conv1D)               (None, 336, 32)      12032       dropout_1[0][0]                  \n",
      "__________________________________________________________________________________________________\n",
      "conv1d_8 (Conv1D)               (None, 330, 32)      16832       dropout_1[0][0]                  \n",
      "__________________________________________________________________________________________________\n",
      "max_pooling1d_1 (MaxPooling1D)  (None, 174, 32)      0           conv1d_4[0][0]                   \n",
      "__________________________________________________________________________________________________\n",
      "max_pooling1d_2 (MaxPooling1D)  (None, 173, 32)      0           conv1d_5[0][0]                   \n",
      "__________________________________________________________________________________________________\n",
      "max_pooling1d_3 (MaxPooling1D)  (None, 171, 32)      0           conv1d_6[0][0]                   \n",
      "__________________________________________________________________________________________________\n",
      "max_pooling1d_4 (MaxPooling1D)  (None, 168, 32)      0           conv1d_7[0][0]                   \n",
      "__________________________________________________________________________________________________\n",
      "max_pooling1d_5 (MaxPooling1D)  (None, 165, 32)      0           conv1d_8[0][0]                   \n",
      "__________________________________________________________________________________________________\n",
      "flatten_1 (Flatten)             (None, 5568)         0           max_pooling1d_1[0][0]            \n",
      "__________________________________________________________________________________________________\n",
      "flatten_2 (Flatten)             (None, 5536)         0           max_pooling1d_2[0][0]            \n",
      "__________________________________________________________________________________________________\n",
      "flatten_3 (Flatten)             (None, 5472)         0           max_pooling1d_3[0][0]            \n",
      "__________________________________________________________________________________________________\n",
      "flatten_4 (Flatten)             (None, 5376)         0           max_pooling1d_4[0][0]            \n",
      "__________________________________________________________________________________________________\n",
      "flatten_5 (Flatten)             (None, 5280)         0           max_pooling1d_5[0][0]            \n",
      "__________________________________________________________________________________________________\n",
      "concatenate_1 (Concatenate)     (None, 27232)        0           flatten_1[0][0]                  \n",
      "                                                                 flatten_2[0][0]                  \n",
      "                                                                 flatten_3[0][0]                  \n",
      "                                                                 flatten_4[0][0]                  \n",
      "                                                                 flatten_5[0][0]                  \n",
      "__________________________________________________________________________________________________\n",
      "dropout_2 (Dropout)             (None, 27232)        0           concatenate_1[0][0]              \n",
      "__________________________________________________________________________________________________\n",
      "batch_normalization_4 (BatchNor (None, 27232)        108928      dropout_2[0][0]                  \n",
      "__________________________________________________________________________________________________\n",
      "dense_4 (Dense)                 (None, 256)          6971648     batch_normalization_4[0][0]      \n",
      "__________________________________________________________________________________________________\n",
      "batch_normalization_5 (BatchNor (None, 256)          1024        dense_4[0][0]                    \n",
      "__________________________________________________________________________________________________\n",
      "dense_5 (Dense)                 (None, 10)           2570        batch_normalization_5[0][0]      \n",
      "==================================================================================================\n",
      "Total params: 7,127,380\n",
      "Trainable params: 7,072,404\n",
      "Non-trainable params: 54,976\n",
      "__________________________________________________________________________________________________\n",
      "None\n",
      "Train on 25350 samples, validate on 4474 samples\n",
      "Epoch 1/30\n",
      "25350/25350 [==============================] - 250s 10ms/step - loss: 1.6368 - acc: 0.4634 - val_loss: 1.3843 - val_acc: 0.5369\n",
      "Epoch 2/30\n",
      "25350/25350 [==============================] - 248s 10ms/step - loss: 1.0864 - acc: 0.6390 - val_loss: 1.3901 - val_acc: 0.5648\n",
      "Epoch 3/30\n",
      "25350/25350 [==============================] - 248s 10ms/step - loss: 0.7110 - acc: 0.7691 - val_loss: 1.4421 - val_acc: 0.5735\n",
      "Epoch 4/30\n",
      "25350/25350 [==============================] - 251s 10ms/step - loss: 0.5139 - acc: 0.8339 - val_loss: 1.5092 - val_acc: 0.5975\n",
      "Epoch 5/30\n",
      "25350/25350 [==============================] - 250s 10ms/step - loss: 0.4191 - acc: 0.8647 - val_loss: 1.6220 - val_acc: 0.5876\n",
      "Epoch 6/30\n",
      "25350/25350 [==============================] - 252s 10ms/step - loss: 0.3467 - acc: 0.8908 - val_loss: 1.7120 - val_acc: 0.5959\n",
      "Epoch 7/30\n",
      "25350/25350 [==============================] - 249s 10ms/step - loss: 0.3066 - acc: 0.9034 - val_loss: 1.6985 - val_acc: 0.5903\n",
      "Epoch 00007: early stopping\n"
     ]
    },
    {
     "data": {
      "text/plain": [
       "<keras.callbacks.History at 0x7f92d16193c8>"
      ]
     },
     "execution_count": 11,
     "metadata": {},
     "output_type": "execute_result"
    }
   ],
   "source": [
    "from keras.layers import Conv1D, MaxPooling1D, Concatenate, Input\n",
    "from keras.models import Sequential,Model\n",
    "\n",
    "units = 256\n",
    "num_filters = 32\n",
    "filter_sizes=(3,5, 9,15,21)\n",
    "conv_blocks = []\n",
    "\n",
    "embedding_layer = Embedding(len(tokenizer.word_index)+1, embedding_dim, input_length=max_length)\n",
    "es2 = EarlyStopping(monitor='val_acc', verbose=1, patience=4)\n",
    "\n",
    "sequence_input = Input(shape=(max_length,), dtype='int32')\n",
    "embedded_sequences = embedding_layer(sequence_input)\n",
    "\n",
    "z = Dropout(0.1)(embedded_sequences)\n",
    "\n",
    "for sz in filter_sizes:\n",
    "    conv = Conv1D(\n",
    "        filters=num_filters,\n",
    "        kernel_size=sz,\n",
    "        padding=\"valid\",\n",
    "        activation=\"relu\",\n",
    "        strides=1)(z)\n",
    "    conv = MaxPooling1D(pool_size=2)(conv)\n",
    "    conv = Flatten()(conv)\n",
    "    conv_blocks.append(conv)\n",
    "z = Concatenate()(conv_blocks) if len(conv_blocks) > 1 else conv_blocks[0]\n",
    "z = Dropout(0.25)(z)\n",
    "z = BatchNormalization()(z)\n",
    "z = Dense(units, activation=\"relu\")(z)\n",
    "z = BatchNormalization()(z)\n",
    "predictions = Dense(top_classes, activation=\"softmax\")(z)\n",
    "model2 = Model(sequence_input, predictions)\n",
    "model2.compile(loss='categorical_crossentropy', optimizer='adam', metrics=['accuracy'])\n",
    "print(model2.summary())\n",
    "\n",
    "model2.fit(X_train, y_train,  batch_size=64, verbose=1, validation_split=0.15,callbacks=[es],epochs=30)"
   ]
  },
  {
   "cell_type": "code",
   "execution_count": 12,
   "metadata": {},
   "outputs": [],
   "source": []
  },
  {
   "cell_type": "code",
   "execution_count": 12,
   "metadata": {
    "_cell_guid": "fc019cd0-6f99-475c-acde-d1710695b1b2",
    "_uuid": "f29dc7ca14851abaadbb41220e0e9339e5b9fafe"
   },
   "outputs": [
    {
     "name": "stdout",
     "output_type": "stream",
     "text": [
      "train-acc = 0.2650549892703863\n",
      "test-acc = 0.24195278969957082\n"
     ]
    },
    {
     "data": {
      "image/png": "[encoded data removed]",
      "text/plain": [
       "<Figure size 720x720 with 2 Axes>"
      ]
     },
     "metadata": {},
     "output_type": "display_data"
    },
    {
     "name": "stdout",
     "output_type": "stream",
     "text": [
      "                                       precision    recall  f1-score   support\n",
      "\n",
      "                            HYDROLASE       0.92      0.20      0.33      2040\n",
      "                        IMMUNE SYSTEM       0.47      0.78      0.59       803\n",
      "                                LYASE       0.09      0.90      0.16       377\n",
      "                       OXIDOREDUCTASE       0.83      0.05      0.10       946\n",
      "                      PROTEIN BINDING       0.00      0.00      0.00       320\n",
      "                    SIGNALING PROTEIN       0.00      0.00      0.00       415\n",
      "STRUCTURAL GENOMICS, UNKNOWN FUNCTION       0.16      0.38      0.22       276\n",
      "                        TRANSCRIPTION       0.24      0.36      0.28       454\n",
      "                          TRANSFERASE       0.94      0.02      0.04      1466\n",
      "                    TRANSPORT PROTEIN       0.31      0.22      0.26       359\n",
      "\n",
      "                            micro avg       0.24      0.24      0.24      7456\n",
      "                            macro avg       0.39      0.29      0.20      7456\n",
      "                         weighted avg       0.63      0.24      0.22      7456\n",
      "\n"
     ]
    },
    {
     "name": "stderr",
     "output_type": "stream",
     "text": [
      "/opt/conda/lib/python3.6/site-packages/sklearn/metrics/classification.py:1143: UndefinedMetricWarning: Precision and F-score are ill-defined and being set to 0.0 in labels with no predicted samples.\n",
      "  'precision', 'predicted', average, warn_for)\n"
     ]
    }
   ],
   "source": [
    "from sklearn.metrics import confusion_matrix\n",
    "from sklearn.metrics import accuracy_score\n",
    "from sklearn.metrics import classification_report\n",
    "import itertools\n",
    "\n",
    "train_pred = model.predict(X_train)\n",
    "test_pred = model.predict(X_test)\n",
    "print(\"train-acc = \" + str(accuracy_score(np.argmax(y_train, axis=1), np.argmax(train_pred, axis=1))))\n",
    "print(\"test-acc = \" + str(accuracy_score(np.argmax(y_test, axis=1), np.argmax(test_pred, axis=1))))\n",
    "\n",
    "# Compute confusion matrix\n",
    "cm = confusion_matrix(np.argmax(y_test, axis=1), np.argmax(test_pred, axis=1))\n",
    "\n",
    "# Plot normalized confusion matrix\n",
    "cm = cm.astype('float') / cm.sum(axis=1)[:, np.newaxis]\n",
    "np.set_printoptions(precision=2)\n",
    "plt.figure(figsize=(10,10))\n",
    "plt.imshow(cm, interpolation='nearest', cmap=plt.cm.Blues)\n",
    "plt.title('Confusion matrix')\n",
    "plt.colorbar()\n",
    "tick_marks = np.arange(len(lb.classes_))\n",
    "plt.xticks(tick_marks, lb.classes_, rotation=90)\n",
    "plt.yticks(tick_marks, lb.classes_)\n",
    "#for i, j in itertools.product(range(cm.shape[0]), range(cm.shape[1])):\n",
    "#    plt.text(j, i, format(cm[i, j], '.2f'), horizontalalignment=\"center\", color=\"white\" if cm[i, j] > cm.max() / 2. else \"black\")\n",
    "plt.ylabel('True label')\n",
    "plt.xlabel('Predicted label')\n",
    "plt.show()\n",
    "\n",
    "print(classification_report(np.argmax(y_test, axis=1), np.argmax(test_pred, axis=1), target_names=lb.classes_))"
   ]
  },
  {
   "cell_type": "code",
   "execution_count": 13,
   "metadata": {},
   "outputs": [
    {
     "name": "stdout",
     "output_type": "stream",
     "text": [
      "train-acc = 0.9005498927038627\n",
      "test-acc = 0.5953594420600858\n"
     ]
    },
    {
     "data": {
      "image/png": "[encoded data removed]",
      "text/plain": [
       "<Figure size 720x720 with 2 Axes>"
      ]
     },
     "metadata": {},
     "output_type": "display_data"
    },
    {
     "name": "stdout",
     "output_type": "stream",
     "text": [
      "                                       precision    recall  f1-score   support\n",
      "\n",
      "                            HYDROLASE       0.70      0.67      0.68      2040\n",
      "                        IMMUNE SYSTEM       0.62      0.85      0.72       803\n",
      "                                LYASE       0.83      0.50      0.62       377\n",
      "                       OXIDOREDUCTASE       0.63      0.70      0.67       946\n",
      "                      PROTEIN BINDING       0.31      0.26      0.28       320\n",
      "                    SIGNALING PROTEIN       0.37      0.33      0.35       415\n",
      "STRUCTURAL GENOMICS, UNKNOWN FUNCTION       0.23      0.16      0.18       276\n",
      "                        TRANSCRIPTION       0.42      0.43      0.42       454\n",
      "                          TRANSFERASE       0.61      0.65      0.63      1466\n",
      "                    TRANSPORT PROTEIN       0.46      0.38      0.42       359\n",
      "\n",
      "                            micro avg       0.60      0.60      0.60      7456\n",
      "                            macro avg       0.52      0.49      0.50      7456\n",
      "                         weighted avg       0.59      0.60      0.59      7456\n",
      "\n"
     ]
    }
   ],
   "source": [
    "train_pred = model2.predict(X_train)\n",
    "test_pred = model2.predict(X_test)\n",
    "print(\"train-acc = \" + str(accuracy_score(np.argmax(y_train, axis=1), np.argmax(train_pred, axis=1))))\n",
    "print(\"test-acc = \" + str(accuracy_score(np.argmax(y_test, axis=1), np.argmax(test_pred, axis=1))))\n",
    "\n",
    "# Compute confusion matrix\n",
    "cm = confusion_matrix(np.argmax(y_test, axis=1), np.argmax(test_pred, axis=1))\n",
    "\n",
    "# Plot normalized confusion matrix\n",
    "cm = cm.astype('float') / cm.sum(axis=1)[:, np.newaxis]\n",
    "np.set_printoptions(precision=2)\n",
    "plt.figure(figsize=(10,10))\n",
    "plt.imshow(cm, interpolation='nearest', cmap=plt.cm.Blues)\n",
    "plt.title('Confusion matrix')\n",
    "plt.colorbar()\n",
    "tick_marks = np.arange(len(lb.classes_))\n",
    "plt.xticks(tick_marks, lb.classes_, rotation=90)\n",
    "plt.yticks(tick_marks, lb.classes_)\n",
    "#for i, j in itertools.product(range(cm.shape[0]), range(cm.shape[1])):\n",
    "#    plt.text(j, i, format(cm[i, j], '.2f'), horizontalalignment=\"center\", color=\"white\" if cm[i, j] > cm.max() / 2. else \"black\")\n",
    "plt.ylabel('True label')\n",
    "plt.xlabel('Predicted label')\n",
    "plt.show()\n",
    "\n",
    "print(classification_report(np.argmax(y_test, axis=1), np.argmax(test_pred, axis=1), target_names=lb.classes_))"
   ]
  },
  {
   "cell_type": "markdown",
   "metadata": {
    "_cell_guid": "0314a160-311c-4802-893d-4da1d234665a",
    "_uuid": "1a1b2301ba8eb8bdf3f4152ef4ffa0b15a5fa86a"
   },
   "source": [
    "Further improvements are possible (deeper model, smaller sequences, using n-grams as words for word embedding to accelerate learning) and should be validated via cross-validation. Could also be improved by Dropout, batchnorm, changing the architecture or regularizing by adding penalties for large weights (kernel_regularizer) or large activations (activation_regularizer). "
   ]
  },
  {
   "cell_type": "code",
   "execution_count": 14,
   "metadata": {},
   "outputs": [],
   "source": []
  }
 ],
 "metadata": {
  "kernelspec": {
   "display_name": "Python 3",
   "language": "python",
   "name": "python3"
  },
  "language_info": {
   "codemirror_mode": {
    "name": "ipython",
    "version": 3
   },
   "file_extension": ".py",
   "mimetype": "text/x-python",
   "name": "python",
   "nbconvert_exporter": "python",
   "pygments_lexer": "ipython3",
   "version": "3.6.4"
  }
 },
 "nbformat": 4,
 "nbformat_minor": 4
}
